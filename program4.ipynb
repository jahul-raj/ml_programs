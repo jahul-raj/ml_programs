{
 "cells": [
  {
   "cell_type": "code",
   "execution_count": 3,
   "id": "7b4123b0-064b-4a7f-a31d-f5faa6501d40",
   "metadata": {},
   "outputs": [
    {
     "data": {
      "text/plain": [
       "array([['Sunny', 'Hot', 'High', False],\n",
       "       ['Sunny', 'Hot', 'High', True],\n",
       "       ['Overcast', 'Hot', 'High', False],\n",
       "       ['Rain', 'Cold', 'High', False],\n",
       "       ['Rain', 'Cold', 'High', True],\n",
       "       ['Overcast', 'Hot', 'High', True],\n",
       "       ['Sunny', 'Hot', 'High', False]], dtype=object)"
      ]
     },
     "execution_count": 3,
     "metadata": {},
     "output_type": "execute_result"
    }
   ],
   "source": [
    "import pandas as pd\n",
    "import numpy as np\n",
    "df=pd.read_csv('training_data.csv')\n",
    "features=np.array(df)[:,:-1]\n",
    "features"
   ]
  },
  {
   "cell_type": "code",
   "execution_count": 20,
   "id": "4829ea7d-9773-4bf9-8c0f-614b475152a7",
   "metadata": {},
   "outputs": [
    {
     "data": {
      "text/plain": [
       "array(['No', 'No', 'Yes', 'Yes', 'No', 'Yes', 'No'], dtype=object)"
      ]
     },
     "execution_count": 20,
     "metadata": {},
     "output_type": "execute_result"
    }
   ],
   "source": [
    "target= np.array(df)[:,-1]\n",
    "target"
   ]
  },
  {
   "cell_type": "code",
   "execution_count": 22,
   "id": "bc790e43-16be-4cb0-864d-8fff0c3d734c",
   "metadata": {},
   "outputs": [
    {
     "name": "stdout",
     "output_type": "stream",
     "text": [
      "['?' '?' 'High' '?']\n"
     ]
    }
   ],
   "source": [
    "for i,val in enumerate(target):\n",
    "    if val == \"Yes\":\n",
    "        hypo=features[i]\n",
    "        break\n",
    "for i,val in enumerate(features):\n",
    "    if target[i]==\"Yes\":\n",
    "        for x in range(len(hypo)):\n",
    "            if val[x]!=hypo[x]:\n",
    "                hypo[x]=\"?\"\n",
    "print(hypo)"
   ]
  }
 ],
 "metadata": {
  "kernelspec": {
   "display_name": "Python 3 (ipykernel)",
   "language": "python",
   "name": "python3"
  },
  "language_info": {
   "codemirror_mode": {
    "name": "ipython",
    "version": 3
   },
   "file_extension": ".py",
   "mimetype": "text/x-python",
   "name": "python",
   "nbconvert_exporter": "python",
   "pygments_lexer": "ipython3",
   "version": "3.12.7"
  }
 },
 "nbformat": 4,
 "nbformat_minor": 5
}
